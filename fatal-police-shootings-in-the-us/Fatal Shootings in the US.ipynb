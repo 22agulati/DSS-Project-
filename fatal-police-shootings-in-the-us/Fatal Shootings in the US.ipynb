{
 "cells": [
  {
   "cell_type": "code",
   "execution_count": 7,
   "metadata": {},
   "outputs": [],
   "source": [
    "from datascience import *\n",
    "import numpy as np\n",
    "\n",
    "%matplotlib inline\n",
    "import matplotlib.pyplot as plots\n",
    "plots.style.use('fivethirtyeight')"
   ]
  },
  {
   "cell_type": "code",
   "execution_count": 9,
   "metadata": {},
   "outputs": [],
   "source": [
    "# Import in the data from csv files\n",
    "median_household_income = Table().read_table(\"MedianHouseholdIncome2015.csv\")\n",
    "percent_below_poverty = Table().read_table(\"PercentagePeopleBelowPovertyLevel.csv\")\n",
    "percent_over_25_completed = Table().read_table(\"PercentOver25CompletedHighSchool.csv\")\n",
    "police_killings = Table().read_table(\"PoliceKillingsUS.csv\")\n",
    "share_race_by_city = Table().read_table(\"ShareRaceByCity.csv\")"
   ]
  },
  {
   "cell_type": "code",
   "execution_count": 29,
   "metadata": {},
   "outputs": [
    {
     "data": {
      "text/html": [
       "<table border=\"1\" class=\"dataframe\">\n",
       "    <thead>\n",
       "        <tr>\n",
       "            <th>Geographic Area</th> <th>City</th> <th>Median Income</th>\n",
       "        </tr>\n",
       "    </thead>\n",
       "    <tbody>\n",
       "        <tr>\n",
       "            <td>AL             </td> <td>Abanda CDP         </td> <td>11207        </td>\n",
       "        </tr>\n",
       "        <tr>\n",
       "            <td>AL             </td> <td>Abbeville city     </td> <td>25615        </td>\n",
       "        </tr>\n",
       "        <tr>\n",
       "            <td>AL             </td> <td>Adamsville city    </td> <td>42575        </td>\n",
       "        </tr>\n",
       "        <tr>\n",
       "            <td>AL             </td> <td>Addison town       </td> <td>37083        </td>\n",
       "        </tr>\n",
       "        <tr>\n",
       "            <td>AL             </td> <td>Akron town         </td> <td>21667        </td>\n",
       "        </tr>\n",
       "        <tr>\n",
       "            <td>AL             </td> <td>Alabaster city     </td> <td>71816        </td>\n",
       "        </tr>\n",
       "        <tr>\n",
       "            <td>AL             </td> <td>Albertville city   </td> <td>32911        </td>\n",
       "        </tr>\n",
       "        <tr>\n",
       "            <td>AL             </td> <td>Alexander City city</td> <td>29874        </td>\n",
       "        </tr>\n",
       "        <tr>\n",
       "            <td>AL             </td> <td>Alexandria CDP     </td> <td>56058        </td>\n",
       "        </tr>\n",
       "        <tr>\n",
       "            <td>AL             </td> <td>Aliceville city    </td> <td>21131        </td>\n",
       "        </tr>\n",
       "    </tbody>\n",
       "</table>\n",
       "<p>... (29312 rows omitted)</p>"
      ],
      "text/plain": [
       "Geographic Area | City                | Median Income\n",
       "AL              | Abanda CDP          | 11207\n",
       "AL              | Abbeville city      | 25615\n",
       "AL              | Adamsville city     | 42575\n",
       "AL              | Addison town        | 37083\n",
       "AL              | Akron town          | 21667\n",
       "AL              | Alabaster city      | 71816\n",
       "AL              | Albertville city    | 32911\n",
       "AL              | Alexander City city | 29874\n",
       "AL              | Alexandria CDP      | 56058\n",
       "AL              | Aliceville city     | 21131\n",
       "... (29312 rows omitted)"
      ]
     },
     "execution_count": 29,
     "metadata": {},
     "output_type": "execute_result"
    }
   ],
   "source": [
    "median_household_income"
   ]
  },
  {
   "cell_type": "code",
   "execution_count": 28,
   "metadata": {},
   "outputs": [
    {
     "data": {
      "text/html": [
       "<table border=\"1\" class=\"dataframe\">\n",
       "    <thead>\n",
       "        <tr>\n",
       "            <th>Geographic Area</th> <th>City</th> <th>poverty_rate</th>\n",
       "        </tr>\n",
       "    </thead>\n",
       "    <tbody>\n",
       "        <tr>\n",
       "            <td>AL             </td> <td>Abanda CDP         </td> <td>78.8        </td>\n",
       "        </tr>\n",
       "        <tr>\n",
       "            <td>AL             </td> <td>Abbeville city     </td> <td>29.1        </td>\n",
       "        </tr>\n",
       "        <tr>\n",
       "            <td>AL             </td> <td>Adamsville city    </td> <td>25.5        </td>\n",
       "        </tr>\n",
       "        <tr>\n",
       "            <td>AL             </td> <td>Addison town       </td> <td>30.7        </td>\n",
       "        </tr>\n",
       "        <tr>\n",
       "            <td>AL             </td> <td>Akron town         </td> <td>42          </td>\n",
       "        </tr>\n",
       "        <tr>\n",
       "            <td>AL             </td> <td>Alabaster city     </td> <td>11.2        </td>\n",
       "        </tr>\n",
       "        <tr>\n",
       "            <td>AL             </td> <td>Albertville city   </td> <td>26.7        </td>\n",
       "        </tr>\n",
       "        <tr>\n",
       "            <td>AL             </td> <td>Alexander City city</td> <td>30.4        </td>\n",
       "        </tr>\n",
       "        <tr>\n",
       "            <td>AL             </td> <td>Alexandria CDP     </td> <td>9.7         </td>\n",
       "        </tr>\n",
       "        <tr>\n",
       "            <td>AL             </td> <td>Aliceville city    </td> <td>41.3        </td>\n",
       "        </tr>\n",
       "    </tbody>\n",
       "</table>\n",
       "<p>... (29319 rows omitted)</p>"
      ],
      "text/plain": [
       "Geographic Area | City                | poverty_rate\n",
       "AL              | Abanda CDP          | 78.8\n",
       "AL              | Abbeville city      | 29.1\n",
       "AL              | Adamsville city     | 25.5\n",
       "AL              | Addison town        | 30.7\n",
       "AL              | Akron town          | 42\n",
       "AL              | Alabaster city      | 11.2\n",
       "AL              | Albertville city    | 26.7\n",
       "AL              | Alexander City city | 30.4\n",
       "AL              | Alexandria CDP      | 9.7\n",
       "AL              | Aliceville city     | 41.3\n",
       "... (29319 rows omitted)"
      ]
     },
     "execution_count": 28,
     "metadata": {},
     "output_type": "execute_result"
    }
   ],
   "source": [
    "percent_below_poverty"
   ]
  },
  {
   "cell_type": "code",
   "execution_count": 12,
   "metadata": {},
   "outputs": [
    {
     "data": {
      "text/html": [
       "<table border=\"1\" class=\"dataframe\">\n",
       "    <thead>\n",
       "        <tr>\n",
       "            <th>Geographic Area</th> <th>City</th> <th>percent_completed_hs</th>\n",
       "        </tr>\n",
       "    </thead>\n",
       "    <tbody>\n",
       "        <tr>\n",
       "            <td>AL             </td> <td>Abanda CDP         </td> <td>21.2                </td>\n",
       "        </tr>\n",
       "        <tr>\n",
       "            <td>AL             </td> <td>Abbeville city     </td> <td>69.1                </td>\n",
       "        </tr>\n",
       "        <tr>\n",
       "            <td>AL             </td> <td>Adamsville city    </td> <td>78.9                </td>\n",
       "        </tr>\n",
       "        <tr>\n",
       "            <td>AL             </td> <td>Addison town       </td> <td>81.4                </td>\n",
       "        </tr>\n",
       "        <tr>\n",
       "            <td>AL             </td> <td>Akron town         </td> <td>68.6                </td>\n",
       "        </tr>\n",
       "        <tr>\n",
       "            <td>AL             </td> <td>Alabaster city     </td> <td>89.3                </td>\n",
       "        </tr>\n",
       "        <tr>\n",
       "            <td>AL             </td> <td>Albertville city   </td> <td>72.7                </td>\n",
       "        </tr>\n",
       "        <tr>\n",
       "            <td>AL             </td> <td>Alexander City city</td> <td>78.1                </td>\n",
       "        </tr>\n",
       "        <tr>\n",
       "            <td>AL             </td> <td>Alexandria CDP     </td> <td>88.8                </td>\n",
       "        </tr>\n",
       "        <tr>\n",
       "            <td>AL             </td> <td>Aliceville city    </td> <td>74.3                </td>\n",
       "        </tr>\n",
       "    </tbody>\n",
       "</table>\n",
       "<p>... (29319 rows omitted)</p>"
      ],
      "text/plain": [
       "Geographic Area | City                | percent_completed_hs\n",
       "AL              | Abanda CDP          | 21.2\n",
       "AL              | Abbeville city      | 69.1\n",
       "AL              | Adamsville city     | 78.9\n",
       "AL              | Addison town        | 81.4\n",
       "AL              | Akron town          | 68.6\n",
       "AL              | Alabaster city      | 89.3\n",
       "AL              | Albertville city    | 72.7\n",
       "AL              | Alexander City city | 78.1\n",
       "AL              | Alexandria CDP      | 88.8\n",
       "AL              | Aliceville city     | 74.3\n",
       "... (29319 rows omitted)"
      ]
     },
     "execution_count": 12,
     "metadata": {},
     "output_type": "execute_result"
    }
   ],
   "source": [
    "percent_over_25_completed"
   ]
  },
  {
   "cell_type": "code",
   "execution_count": 13,
   "metadata": {},
   "outputs": [
    {
     "data": {
      "text/html": [
       "<table border=\"1\" class=\"dataframe\">\n",
       "    <thead>\n",
       "        <tr>\n",
       "            <th>id</th> <th>name</th> <th>date</th> <th>manner_of_death</th> <th>armed</th> <th>age</th> <th>gender</th> <th>race</th> <th>city</th> <th>state</th> <th>signs_of_mental_illness</th> <th>threat_level</th> <th>flee</th> <th>body_camera</th>\n",
       "        </tr>\n",
       "    </thead>\n",
       "    <tbody>\n",
       "        <tr>\n",
       "            <td>3   </td> <td>Tim Elliot         </td> <td>2/1/15</td> <td>shot            </td> <td>gun       </td> <td>53  </td> <td>M     </td> <td>A   </td> <td>Shelton      </td> <td>WA   </td> <td>True                   </td> <td>attack      </td> <td>Not fleeing</td> <td>False      </td>\n",
       "        </tr>\n",
       "        <tr>\n",
       "            <td>4   </td> <td>Lewis Lee Lembke   </td> <td>2/1/15</td> <td>shot            </td> <td>gun       </td> <td>47  </td> <td>M     </td> <td>W   </td> <td>Aloha        </td> <td>OR   </td> <td>False                  </td> <td>attack      </td> <td>Not fleeing</td> <td>False      </td>\n",
       "        </tr>\n",
       "        <tr>\n",
       "            <td>5   </td> <td>John Paul Quintero </td> <td>3/1/15</td> <td>shot and Tasered</td> <td>unarmed   </td> <td>23  </td> <td>M     </td> <td>H   </td> <td>Wichita      </td> <td>KS   </td> <td>False                  </td> <td>other       </td> <td>Not fleeing</td> <td>False      </td>\n",
       "        </tr>\n",
       "        <tr>\n",
       "            <td>8   </td> <td>Matthew Hoffman    </td> <td>4/1/15</td> <td>shot            </td> <td>toy weapon</td> <td>32  </td> <td>M     </td> <td>W   </td> <td>San Francisco</td> <td>CA   </td> <td>True                   </td> <td>attack      </td> <td>Not fleeing</td> <td>False      </td>\n",
       "        </tr>\n",
       "        <tr>\n",
       "            <td>9   </td> <td>Michael Rodriguez  </td> <td>4/1/15</td> <td>shot            </td> <td>nail gun  </td> <td>39  </td> <td>M     </td> <td>H   </td> <td>Evans        </td> <td>CO   </td> <td>False                  </td> <td>attack      </td> <td>Not fleeing</td> <td>False      </td>\n",
       "        </tr>\n",
       "        <tr>\n",
       "            <td>11  </td> <td>Kenneth Joe Brown  </td> <td>4/1/15</td> <td>shot            </td> <td>gun       </td> <td>18  </td> <td>M     </td> <td>W   </td> <td>Guthrie      </td> <td>OK   </td> <td>False                  </td> <td>attack      </td> <td>Not fleeing</td> <td>False      </td>\n",
       "        </tr>\n",
       "        <tr>\n",
       "            <td>13  </td> <td>Kenneth Arnold Buck</td> <td>5/1/15</td> <td>shot            </td> <td>gun       </td> <td>22  </td> <td>M     </td> <td>H   </td> <td>Chandler     </td> <td>AZ   </td> <td>False                  </td> <td>attack      </td> <td>Car        </td> <td>False      </td>\n",
       "        </tr>\n",
       "        <tr>\n",
       "            <td>15  </td> <td>Brock Nichols      </td> <td>6/1/15</td> <td>shot            </td> <td>gun       </td> <td>35  </td> <td>M     </td> <td>W   </td> <td>Assaria      </td> <td>KS   </td> <td>False                  </td> <td>attack      </td> <td>Not fleeing</td> <td>False      </td>\n",
       "        </tr>\n",
       "        <tr>\n",
       "            <td>16  </td> <td>Autumn Steele      </td> <td>6/1/15</td> <td>shot            </td> <td>unarmed   </td> <td>34  </td> <td>F     </td> <td>W   </td> <td>Burlington   </td> <td>IA   </td> <td>False                  </td> <td>other       </td> <td>Not fleeing</td> <td>True       </td>\n",
       "        </tr>\n",
       "        <tr>\n",
       "            <td>17  </td> <td>Leslie Sapp III    </td> <td>6/1/15</td> <td>shot            </td> <td>toy weapon</td> <td>47  </td> <td>M     </td> <td>B   </td> <td>Knoxville    </td> <td>PA   </td> <td>False                  </td> <td>attack      </td> <td>Not fleeing</td> <td>False      </td>\n",
       "        </tr>\n",
       "    </tbody>\n",
       "</table>\n",
       "<p>... (2525 rows omitted)</p>"
      ],
      "text/plain": [
       "id   | name                | date   | manner_of_death  | armed      | age  | gender | race | city          | state | signs_of_mental_illness | threat_level | flee        | body_camera\n",
       "3    | Tim Elliot          | 2/1/15 | shot             | gun        | 53   | M      | A    | Shelton       | WA    | True                    | attack       | Not fleeing | False\n",
       "4    | Lewis Lee Lembke    | 2/1/15 | shot             | gun        | 47   | M      | W    | Aloha         | OR    | False                   | attack       | Not fleeing | False\n",
       "5    | John Paul Quintero  | 3/1/15 | shot and Tasered | unarmed    | 23   | M      | H    | Wichita       | KS    | False                   | other        | Not fleeing | False\n",
       "8    | Matthew Hoffman     | 4/1/15 | shot             | toy weapon | 32   | M      | W    | San Francisco | CA    | True                    | attack       | Not fleeing | False\n",
       "9    | Michael Rodriguez   | 4/1/15 | shot             | nail gun   | 39   | M      | H    | Evans         | CO    | False                   | attack       | Not fleeing | False\n",
       "11   | Kenneth Joe Brown   | 4/1/15 | shot             | gun        | 18   | M      | W    | Guthrie       | OK    | False                   | attack       | Not fleeing | False\n",
       "13   | Kenneth Arnold Buck | 5/1/15 | shot             | gun        | 22   | M      | H    | Chandler      | AZ    | False                   | attack       | Car         | False\n",
       "15   | Brock Nichols       | 6/1/15 | shot             | gun        | 35   | M      | W    | Assaria       | KS    | False                   | attack       | Not fleeing | False\n",
       "16   | Autumn Steele       | 6/1/15 | shot             | unarmed    | 34   | F      | W    | Burlington    | IA    | False                   | other        | Not fleeing | True\n",
       "17   | Leslie Sapp III     | 6/1/15 | shot             | toy weapon | 47   | M      | B    | Knoxville     | PA    | False                   | attack       | Not fleeing | False\n",
       "... (2525 rows omitted)"
      ]
     },
     "execution_count": 13,
     "metadata": {},
     "output_type": "execute_result"
    }
   ],
   "source": [
    "police_killings"
   ]
  },
  {
   "cell_type": "code",
   "execution_count": 14,
   "metadata": {},
   "outputs": [
    {
     "data": {
      "text/html": [
       "<table border=\"1\" class=\"dataframe\">\n",
       "    <thead>\n",
       "        <tr>\n",
       "            <th>Geographic area</th> <th>City</th> <th>share_white</th> <th>share_black</th> <th>share_native_american</th> <th>share_asian</th> <th>share_hispanic</th>\n",
       "        </tr>\n",
       "    </thead>\n",
       "    <tbody>\n",
       "        <tr>\n",
       "            <td>AL             </td> <td>Abanda CDP         </td> <td>67.2       </td> <td>30.2       </td> <td>0                    </td> <td>0          </td> <td>1.6           </td>\n",
       "        </tr>\n",
       "        <tr>\n",
       "            <td>AL             </td> <td>Abbeville city     </td> <td>54.4       </td> <td>41.4       </td> <td>0.1                  </td> <td>1          </td> <td>3.1           </td>\n",
       "        </tr>\n",
       "        <tr>\n",
       "            <td>AL             </td> <td>Adamsville city    </td> <td>52.3       </td> <td>44.9       </td> <td>0.5                  </td> <td>0.3        </td> <td>2.3           </td>\n",
       "        </tr>\n",
       "        <tr>\n",
       "            <td>AL             </td> <td>Addison town       </td> <td>99.1       </td> <td>0.1        </td> <td>0                    </td> <td>0.1        </td> <td>0.4           </td>\n",
       "        </tr>\n",
       "        <tr>\n",
       "            <td>AL             </td> <td>Akron town         </td> <td>13.2       </td> <td>86.5       </td> <td>0                    </td> <td>0          </td> <td>0.3           </td>\n",
       "        </tr>\n",
       "        <tr>\n",
       "            <td>AL             </td> <td>Alabaster city     </td> <td>79.4       </td> <td>13.5       </td> <td>0.4                  </td> <td>0.9        </td> <td>9             </td>\n",
       "        </tr>\n",
       "        <tr>\n",
       "            <td>AL             </td> <td>Albertville city   </td> <td>75.9       </td> <td>1.9        </td> <td>0.8                  </td> <td>0.5        </td> <td>27.9          </td>\n",
       "        </tr>\n",
       "        <tr>\n",
       "            <td>AL             </td> <td>Alexander City city</td> <td>62.2       </td> <td>32         </td> <td>0.2                  </td> <td>0.9        </td> <td>4.8           </td>\n",
       "        </tr>\n",
       "        <tr>\n",
       "            <td>AL             </td> <td>Alexandria CDP     </td> <td>87.4       </td> <td>10.2       </td> <td>0.3                  </td> <td>0.5        </td> <td>0.9           </td>\n",
       "        </tr>\n",
       "        <tr>\n",
       "            <td>AL             </td> <td>Aliceville city    </td> <td>22.6       </td> <td>74.9       </td> <td>0.1                  </td> <td>0          </td> <td>1.2           </td>\n",
       "        </tr>\n",
       "    </tbody>\n",
       "</table>\n",
       "<p>... (29258 rows omitted)</p>"
      ],
      "text/plain": [
       "Geographic area | City                | share_white | share_black | share_native_american | share_asian | share_hispanic\n",
       "AL              | Abanda CDP          | 67.2        | 30.2        | 0                     | 0           | 1.6\n",
       "AL              | Abbeville city      | 54.4        | 41.4        | 0.1                   | 1           | 3.1\n",
       "AL              | Adamsville city     | 52.3        | 44.9        | 0.5                   | 0.3         | 2.3\n",
       "AL              | Addison town        | 99.1        | 0.1         | 0                     | 0.1         | 0.4\n",
       "AL              | Akron town          | 13.2        | 86.5        | 0                     | 0           | 0.3\n",
       "AL              | Alabaster city      | 79.4        | 13.5        | 0.4                   | 0.9         | 9\n",
       "AL              | Albertville city    | 75.9        | 1.9         | 0.8                   | 0.5         | 27.9\n",
       "AL              | Alexander City city | 62.2        | 32          | 0.2                   | 0.9         | 4.8\n",
       "AL              | Alexandria CDP      | 87.4        | 10.2        | 0.3                   | 0.5         | 0.9\n",
       "AL              | Aliceville city     | 22.6        | 74.9        | 0.1                   | 0           | 1.2\n",
       "... (29258 rows omitted)"
      ]
     },
     "execution_count": 14,
     "metadata": {},
     "output_type": "execute_result"
    }
   ],
   "source": [
    "share_race_by_city"
   ]
  },
  {
   "cell_type": "code",
   "execution_count": 36,
   "metadata": {},
   "outputs": [
    {
     "data": {
      "text/html": [
       "<table border=\"1\" class=\"dataframe\">\n",
       "    <thead>\n",
       "        <tr>\n",
       "            <th>name</th> <th>date</th> <th>manner_of_death</th> <th>armed</th> <th>age</th> <th>gender</th> <th>race</th> <th>city</th> <th>state</th> <th>signs_of_mental_illness</th> <th>threat_level</th>\n",
       "        </tr>\n",
       "    </thead>\n",
       "    <tbody>\n",
       "        <tr>\n",
       "            <td>Tim Elliot         </td> <td>2/1/15</td> <td>shot            </td> <td>gun       </td> <td>53  </td> <td>M     </td> <td>A   </td> <td>Shelton      </td> <td>WA   </td> <td>True                   </td> <td>attack      </td>\n",
       "        </tr>\n",
       "        <tr>\n",
       "            <td>Lewis Lee Lembke   </td> <td>2/1/15</td> <td>shot            </td> <td>gun       </td> <td>47  </td> <td>M     </td> <td>W   </td> <td>Aloha        </td> <td>OR   </td> <td>False                  </td> <td>attack      </td>\n",
       "        </tr>\n",
       "        <tr>\n",
       "            <td>John Paul Quintero </td> <td>3/1/15</td> <td>shot and Tasered</td> <td>unarmed   </td> <td>23  </td> <td>M     </td> <td>H   </td> <td>Wichita      </td> <td>KS   </td> <td>False                  </td> <td>other       </td>\n",
       "        </tr>\n",
       "        <tr>\n",
       "            <td>Matthew Hoffman    </td> <td>4/1/15</td> <td>shot            </td> <td>toy weapon</td> <td>32  </td> <td>M     </td> <td>W   </td> <td>San Francisco</td> <td>CA   </td> <td>True                   </td> <td>attack      </td>\n",
       "        </tr>\n",
       "        <tr>\n",
       "            <td>Michael Rodriguez  </td> <td>4/1/15</td> <td>shot            </td> <td>nail gun  </td> <td>39  </td> <td>M     </td> <td>H   </td> <td>Evans        </td> <td>CO   </td> <td>False                  </td> <td>attack      </td>\n",
       "        </tr>\n",
       "        <tr>\n",
       "            <td>Kenneth Joe Brown  </td> <td>4/1/15</td> <td>shot            </td> <td>gun       </td> <td>18  </td> <td>M     </td> <td>W   </td> <td>Guthrie      </td> <td>OK   </td> <td>False                  </td> <td>attack      </td>\n",
       "        </tr>\n",
       "        <tr>\n",
       "            <td>Kenneth Arnold Buck</td> <td>5/1/15</td> <td>shot            </td> <td>gun       </td> <td>22  </td> <td>M     </td> <td>H   </td> <td>Chandler     </td> <td>AZ   </td> <td>False                  </td> <td>attack      </td>\n",
       "        </tr>\n",
       "        <tr>\n",
       "            <td>Brock Nichols      </td> <td>6/1/15</td> <td>shot            </td> <td>gun       </td> <td>35  </td> <td>M     </td> <td>W   </td> <td>Assaria      </td> <td>KS   </td> <td>False                  </td> <td>attack      </td>\n",
       "        </tr>\n",
       "        <tr>\n",
       "            <td>Autumn Steele      </td> <td>6/1/15</td> <td>shot            </td> <td>unarmed   </td> <td>34  </td> <td>F     </td> <td>W   </td> <td>Burlington   </td> <td>IA   </td> <td>False                  </td> <td>other       </td>\n",
       "        </tr>\n",
       "        <tr>\n",
       "            <td>Leslie Sapp III    </td> <td>6/1/15</td> <td>shot            </td> <td>toy weapon</td> <td>47  </td> <td>M     </td> <td>B   </td> <td>Knoxville    </td> <td>PA   </td> <td>False                  </td> <td>attack      </td>\n",
       "        </tr>\n",
       "    </tbody>\n",
       "</table>\n",
       "<p>... (2525 rows omitted)</p>"
      ],
      "text/plain": [
       "name                | date   | manner_of_death  | armed      | age  | gender | race | city          | state | signs_of_mental_illness | threat_level\n",
       "Tim Elliot          | 2/1/15 | shot             | gun        | 53   | M      | A    | Shelton       | WA    | True                    | attack\n",
       "Lewis Lee Lembke    | 2/1/15 | shot             | gun        | 47   | M      | W    | Aloha         | OR    | False                   | attack\n",
       "John Paul Quintero  | 3/1/15 | shot and Tasered | unarmed    | 23   | M      | H    | Wichita       | KS    | False                   | other\n",
       "Matthew Hoffman     | 4/1/15 | shot             | toy weapon | 32   | M      | W    | San Francisco | CA    | True                    | attack\n",
       "Michael Rodriguez   | 4/1/15 | shot             | nail gun   | 39   | M      | H    | Evans         | CO    | False                   | attack\n",
       "Kenneth Joe Brown   | 4/1/15 | shot             | gun        | 18   | M      | W    | Guthrie       | OK    | False                   | attack\n",
       "Kenneth Arnold Buck | 5/1/15 | shot             | gun        | 22   | M      | H    | Chandler      | AZ    | False                   | attack\n",
       "Brock Nichols       | 6/1/15 | shot             | gun        | 35   | M      | W    | Assaria       | KS    | False                   | attack\n",
       "Autumn Steele       | 6/1/15 | shot             | unarmed    | 34   | F      | W    | Burlington    | IA    | False                   | other\n",
       "Leslie Sapp III     | 6/1/15 | shot             | toy weapon | 47   | M      | B    | Knoxville     | PA    | False                   | attack\n",
       "... (2525 rows omitted)"
      ]
     },
     "execution_count": 36,
     "metadata": {},
     "output_type": "execute_result"
    }
   ],
   "source": [
    "# We can combine a few of these tables to get a more succinct set of data\n",
    "edited_killings = police_killings.select(np.arange(1, 12))"
   ]
  },
  {
   "cell_type": "code",
   "execution_count": 32,
   "metadata": {},
   "outputs": [],
   "source": [
    "proportion_men = o"
   ]
  },
  {
   "cell_type": "code",
   "execution_count": null,
   "metadata": {},
   "outputs": [],
   "source": []
  },
  {
   "cell_type": "code",
   "execution_count": null,
   "metadata": {},
   "outputs": [],
   "source": []
  }
 ],
 "metadata": {
  "kernelspec": {
   "display_name": "Python 3",
   "language": "python",
   "name": "python3"
  },
  "language_info": {
   "codemirror_mode": {
    "name": "ipython",
    "version": 3
   },
   "file_extension": ".py",
   "mimetype": "text/x-python",
   "name": "python",
   "nbconvert_exporter": "python",
   "pygments_lexer": "ipython3",
   "version": "3.6.7"
  }
 },
 "nbformat": 4,
 "nbformat_minor": 2
}
